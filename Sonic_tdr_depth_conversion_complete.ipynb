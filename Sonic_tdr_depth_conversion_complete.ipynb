{
 "cells": [
  {
   "cell_type": "markdown",
   "metadata": {
    "id": "TyDHZdaYHdcR"
   },
   "source": [
    "Install libraries:"
   ]
  },
  {
   "cell_type": "code",
   "execution_count": 1,
   "metadata": {
    "id": "N7COztHBxglo"
   },
   "outputs": [
    {
     "name": "stdout",
     "output_type": "stream",
     "text": [
      "Requirement already satisfied: las in /opt/anaconda3/lib/python3.8/site-packages (0.0.3)\n",
      "Requirement already satisfied: numpy>=1.5.0 in /opt/anaconda3/lib/python3.8/site-packages (from las) (1.18.5)\n",
      "/bin/bash: wget: command not found\n",
      "/bin/bash: wget: command not found\n"
     ]
    }
   ],
   "source": [
    "!pip install las\n",
    "from las import LASReader\n",
    "import numpy as np\n",
    "import pandas as pd\n",
    "import matplotlib.pyplot as plt\n",
    "!wget https://raw.githubusercontent.com/millennial-geoscience/Common_Ss_geodata_examples/main/pnbsct_hz_by_il_xl.dat\n",
    "!wget https://raw.githubusercontent.com/seg/tutorials-2014/master/1406_Make_a_synthetic/L-30.las"
   ]
  },
  {
   "cell_type": "markdown",
   "metadata": {
    "id": "LNWy_xxWHuCC"
   },
   "source": [
    "Load horizon data:"
   ]
  },
  {
   "cell_type": "code",
   "execution_count": 2,
   "metadata": {
    "colab": {
     "base_uri": "https://localhost:8080/"
    },
    "id": "EeY002T4L76T",
    "outputId": "1a13787d-8e38-482d-e972-2106076bb4d7"
   },
   "outputs": [
    {
     "name": "stdout",
     "output_type": "stream",
     "text": [
      "[[200.         700.         529.68555689]\n",
      " [200.         702.         529.52373028]\n",
      " [200.         704.         529.49547768]\n",
      " [200.         706.         529.41459417]\n",
      " [200.         708.         529.37859297]]\n"
     ]
    }
   ],
   "source": [
    "pnts = np.loadtxt('pnbsct_hz_by_il_xl.dat')\n",
    "hx,hy,twt = pnts[:,1],pnts[:,0],pnts[:,2]\n",
    "print(pnts[0:5])"
   ]
  },
  {
   "cell_type": "markdown",
   "metadata": {
    "id": "GMyQ1spXH3_l"
   },
   "source": [
    "Load well log curves from LAS file:"
   ]
  },
  {
   "cell_type": "code",
   "execution_count": 3,
   "metadata": {
    "colab": {
     "base_uri": "https://localhost:8080/"
    },
    "id": "m9c50C1uFwGG",
    "outputId": "7be96921-1a2d-43a2-e767-aee897ba621b"
   },
   "outputs": [
    {
     "name": "stdout",
     "output_type": "stream",
     "text": [
      "['DEPTH', 'CALD', 'CALS', 'DEPT', 'DRHO', 'DT', 'GRD', 'GRS', 'ILD', 'ILM', 'LL8', 'NPHILS', 'NPHISS', 'RHOB', 'SP']\n"
     ]
    }
   ],
   "source": [
    "# import LAS file\n",
    "L30 = LASReader('L-30.las', null_subs=np.nan)\n",
    "print(L30.curves.names)"
   ]
  },
  {
   "cell_type": "markdown",
   "metadata": {
    "id": "ELoKaWfqK_sc"
   },
   "source": [
    "We will be converting from feet to meters"
   ]
  },
  {
   "cell_type": "code",
   "execution_count": 4,
   "metadata": {
    "id": "gW_jP6ou_zDl"
   },
   "outputs": [],
   "source": [
    "def f2m(item_in_feet):\n",
    "    \"converts feet to meters\"\n",
    "    try:\n",
    "        return item_in_feet / 3.28084\n",
    "    \n",
    "    except TypeError:\n",
    "        return float(item_in_feet) / 3.28084\n",
    "    \n",
    "    return converted"
   ]
  },
  {
   "cell_type": "code",
   "execution_count": 5,
   "metadata": {
    "id": "aMBxVnnDLJQ1"
   },
   "outputs": [],
   "source": [
    "KB_elev = f2m(L30.well.KB.data)  # Kelly Bushing elevation(ft)\n",
    "water_depth = f2m(L30.well.GL.data) # Depth to Sea Floor below sea level (ft)\n",
    "top_of_log = f2m(L30.start)   # top of log (ft) relative to KB (actually 1150 ft)\n",
    "repl_int = f2m(L30.start) - f2m(L30.well.KB.data) + f2m(L30.well.GL.data)\n",
    "water_vel = 1480  # velocity of sea water [m/s]\n",
    "EGL_time = 2.0 * np.abs(f2m(L30.well.KB.data)) / water_vel\n",
    "water_twt = 2.0*abs(water_depth + EGL_time) / water_vel\n",
    "repl_vel = 1600 # m/s\n",
    "repl_time = 2.0 * repl_int / repl_vel\n",
    "log_start_time = water_twt + repl_time \n",
    "\n",
    "def tvdss(md):\n",
    "    \"assumes a vertical well\"\n",
    "    return md - f2m(L30.well.KB.data)\n",
    "\n",
    "top_log_TVDss = f2m(L30.well.KB.data) - f2m(L30.well.GL.data) "
   ]
  },
  {
   "cell_type": "markdown",
   "metadata": {
    "id": "gG7NGMN9Mqqz"
   },
   "source": [
    "computing a time depth relationship"
   ]
  },
  {
   "cell_type": "code",
   "execution_count": 6,
   "metadata": {
    "id": "3zXWC-oDMh16"
   },
   "outputs": [],
   "source": [
    "z = f2m(L30.data['DEPTH'])\n",
    "dt = L30.data['DT']*3.28084 \n",
    "scaled_dt = 0.1524 * np.nan_to_num(dt) / 1e6\n",
    "tcum = 2000 * (np.cumsum(scaled_dt))"
   ]
  },
  {
   "cell_type": "markdown",
   "metadata": {
    "id": "Cd5b10oAQl45"
   },
   "source": [
    "Plot the time depth relationship"
   ]
  },
  {
   "cell_type": "code",
   "execution_count": 10,
   "metadata": {},
   "outputs": [
    {
     "data": {
      "text/plain": [
       "Text(0.5, 0, 'two-way time')"
      ]
     },
     "execution_count": 10,
     "metadata": {},
     "output_type": "execute_result"
    },
    {
     "data": {
      "image/png": "[encoded data removed]",
      "text/plain": [
       "<Figure size 216x720 with 1 Axes>"
      ]
     },
     "metadata": {
      "needs_background": "light"
     },
     "output_type": "display_data"
    }
   ],
   "source": [
    "import matplotlib.pyplot as plt\n",
    "from scipy import interpolate\n",
    "\n",
    "f = interpolate.interp1d(tcum,z)\n",
    "\n",
    "tdr_z = f(tcum)\n",
    "\n",
    "f1 = plt.figure(figsize = (3,10))\n",
    "plt.plot(tcum, tdr_z, 'b', alpha = 0.5)\n",
    "plt.gca().invert_yaxis()\n",
    "plt.title('integral', style = 'italic')\n",
    "plt.xlabel('two-way time')"
   ]
  },
  {
   "cell_type": "code",
   "execution_count": 14,
   "metadata": {},
   "outputs": [
    {
     "name": "stdout",
     "output_type": "stream",
     "text": [
      "x length: 25621 \n",
      "y length: 25621\n"
     ]
    }
   ],
   "source": [
    "print(\"x length:\", len(tcum),\"\\ny length:\",len(z))"
   ]
  },
  {
   "cell_type": "code",
   "execution_count": 15,
   "metadata": {},
   "outputs": [],
   "source": [
    "#convert grid nodes to depth\n",
    "zcon = f(twt)"
   ]
  },
  {
   "cell_type": "code",
   "execution_count": 16,
   "metadata": {
    "id": "-_8NBqTSRaxV"
   },
   "outputs": [
    {
     "data": {
      "image/png": "[encoded data removed]",
      "text/plain": [
       "<Figure size 792x288 with 4 Axes>"
      ]
     },
     "metadata": {
      "needs_background": "light"
     },
     "output_type": "display_data"
    }
   ],
   "source": [
    "hxmin = hx.min()\n",
    "hxmax = hx.max()\n",
    "hymin = hy.min()\n",
    "hymax = hy.max()\n",
    "\n",
    "from scipy.interpolate import griddata\n",
    "\n",
    "grid_x, grid_y = np.mgrid[hxmin:hxmax:1,hymin:hymax:1]\n",
    "\n",
    "grid_twt = griddata((hx,hy), twt, (grid_x, grid_y), method ='nearest')\n",
    "grid_zcon = griddata((hx,hy), zcon, (grid_x, grid_y), method ='nearest')\n",
    "\n",
    "fig, axs = plt.subplots(1, 2, figsize=(11, 4))\n",
    "im1 = axs[0].imshow(grid_twt.T, cmap = 'jet_r',vmin=350,vmax=1000,origin='lower',aspect=1)\n",
    "axs[0].set_xlabel('eastings')\n",
    "axs[0].set_ylabel('northings')\n",
    "axs[0].set_title('Gridded horizon TWT (ms)')\n",
    "plt.colorbar(im1,ax=axs[0])\n",
    "\n",
    "im2 = axs[1].imshow(grid_zcon.T, cmap = 'jet_r',origin='lower',vmin=350,vmax=1000,aspect=1)\n",
    "axs[1].set_xlabel('eastings')\n",
    "axs[1].set_ylabel('northings')\n",
    "axs[1].set_title('Depth converted grid (mSS)')\n",
    "plt.colorbar(im2,ax=axs[1])\n",
    "plt.tight_layout()"
   ]
  },
  {
   "cell_type": "markdown",
   "metadata": {
    "id": "fkD67c3mRhxa"
   },
   "source": [
    "Export to petrel Charisma grid:"
   ]
  },
  {
   "cell_type": "code",
   "execution_count": 17,
   "metadata": {
    "colab": {
     "base_uri": "https://localhost:8080/",
     "height": 33
    },
    "id": "tkkjkrmyAIqQ",
    "outputId": "515f63bf-1b36-4329-d38d-89ee7e864638"
   },
   "outputs": [],
   "source": [
    "x = np.round(hy,decimals=2)\n",
    "y = np.round(hx,decimals=2)\n",
    "z = np.round(zcon,decimals=4)\n",
    "depth_xyz = list(zip(x,y,z))\n",
    "np.savetxt('Penobscot_depth_xyz.txt',depth_xyz,delimiter='  ')"
   ]
  },
  {
   "cell_type": "code",
   "execution_count": null,
   "metadata": {},
   "outputs": [],
   "source": []
  }
 ],
 "metadata": {
  "colab": {
   "collapsed_sections": [
    "fkD67c3mRhxa",
    "hGkj7TzbzGoS"
   ],
   "name": "Sonic_tdr_depth_conversion_complete.ipynb",
   "provenance": [],
   "toc_visible": true
  },
  "kernelspec": {
   "display_name": "Python 3",
   "language": "python",
   "name": "python3"
  },
  "language_info": {
   "codemirror_mode": {
    "name": "ipython",
    "version": 3
   },
   "file_extension": ".py",
   "mimetype": "text/x-python",
   "name": "python",
   "nbconvert_exporter": "python",
   "pygments_lexer": "ipython3",
   "version": "3.8.3"
  }
 },
 "nbformat": 4,
 "nbformat_minor": 1
}
